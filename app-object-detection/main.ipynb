{
 "cells": [
  {
   "cell_type": "markdown",
   "metadata": {},
   "source": [
    "# Image Recognition with TensorFlow\n",
    "\n",
    "This is a simple application that demonstrates use python to create an object detection application that detects objects in an Image using the `TensorFlow`, `Keras` and `OpenCV` libraries."
   ]
  },
  {
   "cell_type": "code",
   "execution_count": 22,
   "metadata": {},
   "outputs": [
    {
     "name": "stdout",
     "output_type": "stream",
     "text": [
      "shell-init: error retrieving current directory: getcwd: cannot access parent directories: No such file or directory\n",
      "Reading package lists... Done\n",
      "Building dependency tree... Done\n",
      "Reading state information... Done\n",
      "libgl1-mesa-glx is already the newest version (23.0.4-0ubuntu1~22.04.1).\n",
      "0 upgraded, 0 newly installed, 0 to remove and 18 not upgraded.\n",
      "shell-init: error retrieving current directory: getcwd: cannot access parent directories: No such file or directory\n",
      "The folder you are executing pip from can no longer be found.\n"
     ]
    }
   ],
   "source": [
    "# uninstalls all packages and installs the ones in requirements.txt\n",
    "#!pip freeze | xargs pip uninstall -y\n",
    "\n",
    "# Dependency for opencv-python (cv2). `import cv2` raises ImportError: libGL.so.1: cannot open shared object file: No such file or directory\n",
    "# Solution from https://askubuntu.com/a/1015744\n",
    "!sudo apt install -y libgl1-mesa-glx\n",
    "\n",
    "# Install dependencies from requirements.txt\n",
    "!pip install -r requirements.txt"
   ]
  },
  {
   "cell_type": "code",
   "execution_count": 23,
   "metadata": {},
   "outputs": [
    {
     "name": "stdout",
     "output_type": "stream",
     "text": [
      "shell-init: error retrieving current directory: getcwd: cannot access parent directories: No such file or directory\n",
      "  % Total    % Received % Xferd  Average Speed   Time    Time     Time  Current\n",
      "                                 Dload  Upload   Total   Spent    Left  Speed\n",
      "  0     0    0     0    0     0      0      0 --:--:-- --:--:-- --:--:--     0\n",
      "  0  130M    0     0    0     0      0      0 --:--:-- --:--:-- --:--:--     0Warning: Failed to create the file retinanet_resnet50_fpn_coco-eeacb38b.pth: \n",
      "Warning: No such file or directory\n",
      "  0  130M    0  1381    0     0   1563      0 24:16:32 --:--:-- 24:16:32  134k\n",
      "curl: (23) Failure writing output to destination\n"
     ]
    }
   ],
   "source": [
    "# Download the model file\n",
    "!curl -OL https://github.com/OlafenwaMoses/ImageAI/releases/download/3.0.0-pretrained/retinanet_resnet50_fpn_coco-eeacb38b.pth"
   ]
  },
  {
   "cell_type": "code",
   "execution_count": 20,
   "metadata": {},
   "outputs": [
    {
     "name": "stdout",
     "output_type": "stream",
     "text": [
      "Unexpected exception formatting exception. Falling back to standard exception\n"
     ]
    },
    {
     "name": "stderr",
     "output_type": "stream",
     "text": [
      "Traceback (most recent call last):\n",
      "  File \"/home/vscode/.local/lib/python3.11/site-packages/IPython/core/interactiveshell.py\", line 3553, in run_code\n",
      "  File \"/tmp/ipykernel_3497/259430282.py\", line 4, in <module>\n",
      "    execution_path = os.getcwd()\n",
      "                     ^^^^^^^^^^^\n",
      "FileNotFoundError: [Errno 2] No such file or directory\n",
      "\n",
      "During handling of the above exception, another exception occurred:\n",
      "\n",
      "Traceback (most recent call last):\n",
      "  File \"/home/vscode/.local/lib/python3.11/site-packages/pygments/styles/__init__.py\", line 45, in get_style_by_name\n",
      "ModuleNotFoundError: No module named 'pygments.styles.default'\n",
      "\n",
      "During handling of the above exception, another exception occurred:\n",
      "\n",
      "Traceback (most recent call last):\n",
      "  File \"/home/vscode/.local/lib/python3.11/site-packages/IPython/core/interactiveshell.py\", line 2144, in showtraceback\n",
      "  File \"/home/vscode/.local/lib/python3.11/site-packages/IPython/core/ultratb.py\", line 1448, in structured_traceback\n",
      "  File \"/home/vscode/.local/lib/python3.11/site-packages/IPython/core/ultratb.py\", line 1339, in structured_traceback\n",
      "  File \"/home/vscode/.local/lib/python3.11/site-packages/IPython/core/ultratb.py\", line 1186, in structured_traceback\n",
      "  File \"/home/vscode/.local/lib/python3.11/site-packages/IPython/core/ultratb.py\", line 1076, in format_exception_as_a_whole\n",
      "  File \"/home/vscode/.local/lib/python3.11/site-packages/IPython/core/ultratb.py\", line 1127, in get_records\n",
      "  File \"/home/vscode/.local/lib/python3.11/site-packages/pygments/styles/__init__.py\", line 47, in get_style_by_name\n",
      "pygments.util.ClassNotFound: Could not find style module 'pygments.styles.default', though it should be builtin.\n"
     ]
    }
   ],
   "source": [
    "from imageai.Detection import ObjectDetection\n",
    "import os\n",
    "\n",
    "execution_path = os.getcwd()\n",
    "\n",
    "detector = ObjectDetection()\n",
    "detector.setModelTypeAsRetinaNet()\n",
    "detector.setModelPath(os.path.join(execution_path, \"retinanet_resnet50_fpn_coco-eeacb38b.pth\"))\n",
    "detector.loadModel()\n",
    "\n",
    "detections = detector.detectObjectsFromImage(\n",
    "    input_image = os.path.join(execution_path, \"image.jpg\"),\n",
    "    output_image_path = os.path.join(execution_path, \"image_detected.jpg\")\n",
    ")\n",
    "\n",
    "for eachObject in detections:\n",
    "    print(eachObject[\"name\"] , \" : \" , eachObject[\"percentage_probability\"])"
   ]
  }
 ],
 "metadata": {
  "kernelspec": {
   "display_name": "Python 3",
   "language": "python",
   "name": "python3"
  },
  "language_info": {
   "codemirror_mode": {
    "name": "ipython",
    "version": 3
   },
   "file_extension": ".py",
   "mimetype": "text/x-python",
   "name": "python",
   "nbconvert_exporter": "python",
   "pygments_lexer": "ipython3",
   "version": "3.11.7"
  }
 },
 "nbformat": 4,
 "nbformat_minor": 2
}
