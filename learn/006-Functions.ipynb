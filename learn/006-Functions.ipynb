{
 "cells": [
  {
   "cell_type": "markdown",
   "metadata": {},
   "source": [
    "# Functions Vs Methods\n",
    "\n",
    "- __Functions__ are defined outside of classes, \n",
    "- __Methods__ are defined inside of and part of classes."
   ]
  },
  {
   "cell_type": "code",
   "execution_count": 1,
   "metadata": {},
   "outputs": [
    {
     "name": "stdout",
     "output_type": "stream",
     "text": [
      "Naame\n",
      "NAAME\n",
      "True\n",
      "2\n"
     ]
    }
   ],
   "source": [
    "name = \"Naame\"\n",
    "type(name) # type is a function\n",
    "print(name) # print is a function\n",
    "print(name.upper()) # upper is a method\n",
    "print(name.endswith(\"e\")) # endswith is a method\n",
    "print(name.count(\"a\")) # count is a method\n"
   ]
  },
  {
   "cell_type": "markdown",
   "metadata": {},
   "source": [
    "## Properties\n",
    "\n",
    "- __Properties__ are the values associated with a Python object."
   ]
  },
  {
   "cell_type": "code",
   "execution_count": 2,
   "metadata": {},
   "outputs": [
    {
     "data": {
      "text/plain": [
       "5"
      ]
     },
     "execution_count": 2,
     "metadata": {},
     "output_type": "execute_result"
    }
   ],
   "source": [
    "len(name)"
   ]
  },
  {
   "cell_type": "markdown",
   "metadata": {},
   "source": [
    "# Defining a Function"
   ]
  },
  {
   "cell_type": "code",
   "execution_count": 7,
   "metadata": {},
   "outputs": [
    {
     "name": "stdout",
     "output_type": "stream",
     "text": [
      "5 <class 'int'>\n",
      "Alice <class 'str'>\n",
      "Hello, Alice <class 'str'>\n",
      "Hello, Alice\n",
      "Hello, Bob\n"
     ]
    },
    {
     "data": {
      "text/plain": [
       "{'name': 'Charlie', 'age': 35, 'role': 'Student', 'required_books': 5}"
      ]
     },
     "execution_count": 7,
     "metadata": {},
     "output_type": "execute_result"
    }
   ],
   "source": [
    "# Define a Function\n",
    "\n",
    "def add(num1, num2):\n",
    "    value = num1 + num2\n",
    "    return value\n",
    "\n",
    "total = add(2, 3) # Call the function\n",
    "print(total, type(total))\n",
    "\n",
    "def get_name():\n",
    "    name = \"Alice\"\n",
    "    return name\n",
    "\n",
    "name = get_name()\n",
    "print(name, type(name))\n",
    "\n",
    "def greeting(name):\n",
    "    return f\"Hello, {name}\"\n",
    "\n",
    "greeting_val = greeting(\"Alice\")\n",
    "print(greeting_val, type(greeting_val))\n",
    "\n",
    "# default param value\n",
    "\n",
    "def greeting(name=\"Alice\"):\n",
    "    print(f\"Hello, {name}\")\n",
    "    \n",
    "greeting()\n",
    "greeting(\"Bob\")\n",
    "\n",
    "def create_person(name, age, role='Teacher', required_books = 0):\n",
    "    person = {\"name\": name, \n",
    "              \"age\": age, \n",
    "              \"role\": role,\n",
    "              \"required_books\": required_books \n",
    "    }\n",
    "    return person\n",
    "\n",
    "create_person(\"Alice\", 25)\n",
    "create_person(\"Bob\", 30, \"Student\")\n",
    "create_person(\"Charlie\", 35, \"Student\", 5)\n"
   ]
  },
  {
   "cell_type": "code",
   "execution_count": 11,
   "metadata": {},
   "outputs": [
    {
     "name": "stdout",
     "output_type": "stream",
     "text": [
      "(1, 2, 3, 4, 5) <class 'tuple'>\n",
      "15\n",
      "{'name': 'Alice', 'age': 25, 'role': 'Teacher'} <class 'dict'>\n",
      "name: Alice\n",
      "age: 25\n",
      "role: Teacher\n",
      "{'name': 'Alice', 'age': 25, 'role': 'Teacher'} <class 'dict'>\n",
      "Hello, Alice\n",
      "Your ordered - Burger\n",
      "Your ordered - Pizza\n",
      "Your drink is Coke\n",
      "Your dessert is Ice Cream\n"
     ]
    }
   ],
   "source": [
    "# Args and Kwargs\n",
    "\n",
    "## Args : variable length arguments passed to a function as a tuple\n",
    "def add(*args):\n",
    "    print(args, type(args))\n",
    "    total = 0\n",
    "    for num in args:\n",
    "        total += num\n",
    "    return total\n",
    "\n",
    "print(add(1, 2, 3, 4, 5))\n",
    "\n",
    "## Kwargs: variable length keyword arguments passed to a function as a dictionary\n",
    "\n",
    "def kwargs_example(**kwargs):\n",
    "    print(kwargs, type(kwargs))\n",
    "    for key, value in kwargs.items():\n",
    "        print(f\"{key}: {value}\")\n",
    "        \n",
    "kwargs_example(name=\"Alice\", age=25, role=\"Teacher\")\n",
    "\n",
    "def create_person(**kwargs):\n",
    "    print(kwargs, type(kwargs))\n",
    "    person = {\"name\": kwargs.get(\"name\"), \n",
    "              \"age\": kwargs.get(\"age\"), \n",
    "              \"role\": kwargs.get(\"role\"),\n",
    "              \"required_books\": kwargs.get(\"required_books\") \n",
    "    }\n",
    "    return person\n",
    "\n",
    "create_person(name=\"Alice\", age=25, role=\"Teacher\")\n",
    "\n",
    "def order(name, *dishes, **kwargs):\n",
    "    print(f\"Hello, {name}\")\n",
    "    for dish in dishes:\n",
    "        print(f\"Your ordered - {dish}\")\n",
    "\n",
    "    if kwargs.get(\"drink\"):\n",
    "        print(f\"Your drink is {kwargs.get('drink')}\")\n",
    "    \n",
    "    if kwargs.get(\"dessert\"):\n",
    "        print(f\"Your dessert is {kwargs.get('dessert')}\")\n",
    "        \n",
    "order(\"Alice\", \"Burger\", \"Pizza\", drink=\"Coke\", dessert=\"Ice Cream\")\n"
   ]
  },
  {
   "cell_type": "markdown",
   "metadata": {},
   "source": [
    "# Lambda Expressions\n",
    "lambda expressions are used to create anonymous functions. The result of the expression is the value when the lambda is applied to an argument."
   ]
  },
  {
   "cell_type": "code",
   "execution_count": null,
   "metadata": {},
   "outputs": [],
   "source": [
    "square = lambda x: x ** 2\n",
    "print(square(3))\n",
    "print(square(5))"
   ]
  },
  {
   "cell_type": "markdown",
   "metadata": {},
   "source": [
    "# Nested Functions\n",
    "A function defined inside another function is called a nested function. Nested functions can access variables of the enclosing scope."
   ]
  },
  {
   "cell_type": "code",
   "execution_count": 4,
   "metadata": {},
   "outputs": [
    {
     "name": "stdout",
     "output_type": "stream",
     "text": [
      "Parent Function\n",
      "Child Function\n",
      "Child Function\n"
     ]
    }
   ],
   "source": [
    "\n",
    "def parent_fun():\n",
    "    print(\"Parent Function\")\n",
    "    \n",
    "    def child_fun():\n",
    "        print(\"Child Function\")\n",
    "        \n",
    "    child_fun()\n",
    "    \n",
    "    return child_fun\n",
    "\n",
    "func = parent_fun()\n",
    "func()"
   ]
  },
  {
   "cell_type": "markdown",
   "metadata": {},
   "source": [
    "# Decorators\n",
    "python decorators are a powerful tool to modify the behavior of a function or a class."
   ]
  },
  {
   "cell_type": "code",
   "execution_count": 11,
   "metadata": {},
   "outputs": [
    {
     "name": "stdout",
     "output_type": "stream",
     "text": [
      "My my_decorator Function\n",
      "Decorator starts\n",
      "Original Function\n",
      "Decorator ends\n",
      "My my_decorator Function\n",
      "Decorator starts\n",
      "Original Function 2\n",
      "Decorator ends\n"
     ]
    }
   ],
   "source": [
    "def my_decorator(original_func):\n",
    "    print(\"My my_decorator Function\")\n",
    "    \n",
    "    def wrapper():\n",
    "        print(\"Decorator starts\")\n",
    "        original_func()\n",
    "        print(\"Decorator ends\")\n",
    "        \n",
    "    return wrapper\n",
    "\n",
    "@my_decorator\n",
    "def greeting():\n",
    "    print(\"Original Function\")\n",
    "    \n",
    "def greeting2():\n",
    "    print(\"Original Function 2\")\n",
    "    \n",
    "greeting()\n",
    "\n",
    "new_greeting2 = my_decorator(greeting2)\n",
    "new_greeting2()\n"
   ]
  },
  {
   "cell_type": "markdown",
   "metadata": {},
   "source": [
    "# Generators\n",
    "Generators are a special class of functions that simplify the task of writing iterators. Regular functions compute a value and return it, but generators return an iterator that returns a stream of values."
   ]
  },
  {
   "cell_type": "code",
   "execution_count": null,
   "metadata": {},
   "outputs": [],
   "source": [
    "lst = [1, 2, 3, 4, 5, ... 10000,]   "
   ]
  }
 ],
 "metadata": {
  "kernelspec": {
   "display_name": "Python 3",
   "language": "python",
   "name": "python3"
  },
  "language_info": {
   "codemirror_mode": {
    "name": "ipython",
    "version": 3
   },
   "file_extension": ".py",
   "mimetype": "text/x-python",
   "name": "python",
   "nbconvert_exporter": "python",
   "pygments_lexer": "ipython3",
   "version": "3.12.1"
  }
 },
 "nbformat": 4,
 "nbformat_minor": 2
}
