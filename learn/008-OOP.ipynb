{
 "cells": [
  {
   "cell_type": "markdown",
   "metadata": {},
   "source": [
    "# Object oriented programming in Python"
   ]
  },
  {
   "cell_type": "code",
   "execution_count": 1,
   "metadata": {},
   "outputs": [
    {
     "name": "stdout",
     "output_type": "stream",
     "text": [
      "<class 'str'>\n",
      "NAME\n",
      "name\n",
      "Name\n"
     ]
    }
   ],
   "source": [
    "name = \"Name\"\n",
    "print(type(name)) # <class 'str'>\n",
    "\n",
    "# access methods and properties of the string\n",
    "print(name.upper()) # NAME\n",
    "print(name.lower()) # name\n",
    "print(name.capitalize()) # Name"
   ]
  },
  {
   "cell_type": "code",
   "execution_count": 2,
   "metadata": {},
   "outputs": [
    {
     "name": "stdout",
     "output_type": "stream",
     "text": [
      "Person created with name John\n",
      "<__main__.Person object at 0x7f9c8e544200> <class '__main__.Person'>\n",
      "Hello, my name is John\n",
      "John\n",
      "John\n"
     ]
    }
   ],
   "source": [
    "# Class\n",
    "\n",
    "class Person:\n",
    "    \n",
    "    # properties\n",
    "    age = 0\n",
    "    \n",
    "    # constructor\n",
    "    def __init__(self, name=\"Alice\", age=0):\n",
    "        print(f\"Person created with name {name}\")\n",
    "        self.name = name\n",
    "        \n",
    "    # Methods\n",
    "    def say_hello(self):\n",
    "        print(f\"Hello, my name is {self.name}\")\n",
    "    \n",
    "    def get_name(self):\n",
    "        return self.name\n",
    "        \n",
    "person = Person(\"John\")\n",
    "print(person, type(person)) # <class '__main__.Person'>\n",
    "person.say_hello() # Hello, my name is John\n",
    "print(person.get_name()) # John\n",
    "print(person.name) # John"
   ]
  },
  {
   "cell_type": "markdown",
   "metadata": {},
   "source": [
    "# Inheritance  \n",
    "a powerful feature in object oriented programming. It refers to defining a new class with little"
   ]
  },
  {
   "cell_type": "code",
   "execution_count": 3,
   "metadata": {},
   "outputs": [
    {
     "name": "stdout",
     "output_type": "stream",
     "text": [
      "Animal is eating\n",
      "Animal is speaking\n",
      "Dog is eating\n",
      "Dog is barking\n",
      "Cat is eating\n",
      "Cat is meowing\n"
     ]
    }
   ],
   "source": [
    "class Animal:\n",
    "    \n",
    "    def __init__(self, name=\"Animal\", weight=0):\n",
    "        self.name = name\n",
    "        self.weight = weight\n",
    "        \n",
    "    def eat(self):\n",
    "        print(f\"{self.name} is eating\")\n",
    "        \n",
    "    def sleep(self):\n",
    "        print(f\"{self.name} is sleeping\")\n",
    "        \n",
    "    def speak(self):\n",
    "        print(f\"{self.name} is speaking\")\n",
    "\n",
    "class Dog(Animal):\n",
    "    \n",
    "    def __init__(self, name=\"Dog\", weight=0, breed=\"\"):\n",
    "        super().__init__(name, weight)\n",
    "        self.breed = breed\n",
    "        \n",
    "    def speak(self):\n",
    "        print(f\"{self.name} is barking\")\n",
    "        \n",
    "class Cat(Animal):\n",
    "        \n",
    "        def __init__(self, name=\"Cat\", weight=0, breed=\"\"):\n",
    "            super().__init__(name, weight)\n",
    "            self.breed = breed\n",
    "            \n",
    "        def speak(self):\n",
    "            print(f\"{self.name} is meowing\")\n",
    "            \n",
    "animal = Animal()\n",
    "animal.eat() # Animal is eating\n",
    "animal.speak() # Animal is speaking\n",
    "\n",
    "dog = Dog(\"Dog\", 10, \"Bulldog\")\n",
    "dog.eat() # Dog is eating\n",
    "dog.speak() # Dog is barking\n",
    "\n",
    "cat = Cat(\"Cat\", 5, \"Siamese\")\n",
    "cat.eat() # Cat is eating\n",
    "cat.speak() # Cat is meowing"
   ]
  },
  {
   "cell_type": "markdown",
   "metadata": {},
   "source": [
    "# Interfaces\n",
    "Interfaces are a way to define the methods that a class should have. It is a way to define a contract for the class. In Python, interfaces are not explicitly defined. However, we can use abstract base classes to define interfaces."
   ]
  },
  {
   "cell_type": "code",
   "execution_count": 4,
   "metadata": {},
   "outputs": [
    {
     "name": "stdout",
     "output_type": "stream",
     "text": [
      "Animal is eating\n",
      "Dog is eating\n",
      "Dog is barking\n",
      "Cat is eating\n"
     ]
    },
    {
     "ename": "NotImplementedError",
     "evalue": "Subclass must implement this method",
     "output_type": "error",
     "traceback": [
      "\u001b[0;31m---------------------------------------------------------------------------\u001b[0m",
      "\u001b[0;31mNotImplementedError\u001b[0m                       Traceback (most recent call last)",
      "Cell \u001b[0;32mIn[4], line 38\u001b[0m\n\u001b[1;32m     36\u001b[0m cat \u001b[38;5;241m=\u001b[39m Cat(\u001b[38;5;124m\"\u001b[39m\u001b[38;5;124mCat\u001b[39m\u001b[38;5;124m\"\u001b[39m, \u001b[38;5;241m5\u001b[39m)\n\u001b[1;32m     37\u001b[0m cat\u001b[38;5;241m.\u001b[39meat() \u001b[38;5;66;03m# Cat is eating\u001b[39;00m\n\u001b[0;32m---> 38\u001b[0m \u001b[43mcat\u001b[49m\u001b[38;5;241;43m.\u001b[39;49m\u001b[43mspeak\u001b[49m\u001b[43m(\u001b[49m\u001b[43m)\u001b[49m \u001b[38;5;66;03m# NotImplementedError: Subclass must implement this method\u001b[39;00m\n",
      "Cell \u001b[0;32mIn[4], line 14\u001b[0m, in \u001b[0;36mAnimal.speak\u001b[0;34m(self)\u001b[0m\n\u001b[1;32m     13\u001b[0m \u001b[38;5;28;01mdef\u001b[39;00m \u001b[38;5;21mspeak\u001b[39m(\u001b[38;5;28mself\u001b[39m):\n\u001b[0;32m---> 14\u001b[0m     \u001b[38;5;28;01mraise\u001b[39;00m \u001b[38;5;167;01mNotImplementedError\u001b[39;00m(\u001b[38;5;124m\"\u001b[39m\u001b[38;5;124mSubclass must implement this method\u001b[39m\u001b[38;5;124m\"\u001b[39m)\n",
      "\u001b[0;31mNotImplementedError\u001b[0m: Subclass must implement this method"
     ]
    }
   ],
   "source": [
    "class Animal:\n",
    "    \n",
    "    def __init__(self, name=\"Animal\", weight=0):\n",
    "        self.name = name\n",
    "        self.weight = weight\n",
    "        \n",
    "    def eat(self):\n",
    "        print(f\"{self.name} is eating\")\n",
    "        \n",
    "    def sleep(self):\n",
    "        print(f\"{self.name} is sleeping\")\n",
    "        \n",
    "    def speak(self):\n",
    "        raise NotImplementedError(\"Subclass must implement this method\")\n",
    "    \n",
    "class Dog(Animal):\n",
    "    \n",
    "    def __init__(self, name=\"Dog\", weight=0, breed=\"\"):\n",
    "        super().__init__(name, weight)\n",
    "        self.breed = breed\n",
    "        \n",
    "    def speak(self):\n",
    "        print(f\"{self.name} is barking\")\n",
    "        \n",
    "class Cat(Animal):\n",
    "    pass\n",
    "\n",
    "animal = Animal()\n",
    "animal.eat() # Animal is eating\n",
    "# animal.speak() # NotImplementedError: Subclass must implement this method\n",
    "\n",
    "dog = Dog(\"Dog\", 10, \"Bulldog\")\n",
    "dog.eat() # Dog is eating\n",
    "dog.speak() # Dog is barking\n",
    "\n",
    "cat = Cat(\"Cat\", 5)\n",
    "cat.eat() # Cat is eating\n",
    "cat.speak() # NotImplementedError: Subclass must implement this method"
   ]
  },
  {
   "cell_type": "code",
   "execution_count": null,
   "metadata": {},
   "outputs": [
    {
     "name": "stdout",
     "output_type": "stream",
     "text": [
      "Dog is eating\n",
      "Dog is eating\n",
      "10\n",
      "Dog\n"
     ]
    }
   ],
   "source": [
    "# Super function\n",
    "\n",
    "class Animal:\n",
    "    def __init__(self, name=\"Animal\", weight=0):\n",
    "        self.name = name\n",
    "        self.weight = weight\n",
    "        \n",
    "    def eat(self):\n",
    "        print(f\"{self.name} is eating\")\n",
    "        \n",
    "    def sleep(self):\n",
    "        print(f\"{self.name} is sleeping\")\n",
    "\n",
    "class Dog(Animal):\n",
    "    \n",
    "    def __init__(self, name=\"Dog\", weight=0, breed=\"\"):\n",
    "        super().__init__(name, weight)\n",
    "        self.breed = breed\n",
    "        \n",
    "    def eat(self):\n",
    "        super().eat()\n",
    "        print(f\"{self.name} is eating\")\n",
    "        \n",
    "dog = Dog(\"Dog\", 10, \"Bulldog\")\n",
    "dog.eat() # Dog is eating\n",
    "print(dog.weight)\n",
    "print(dog.name)"
   ]
  },
  {
   "cell_type": "code",
   "execution_count": null,
   "metadata": {},
   "outputs": [
    {
     "name": "stdout",
     "output_type": "stream",
     "text": [
      "Animal Animal\n",
      "{'name': 'Animal', 'weight': 101}\n",
      "<built-in method __dir__ of Animal object at 0x7f6a90096720>\n",
      "<bound method Animal.__str__ of <__main__.Animal object at 0x7f6a90096720>>\n",
      "6\n",
      "<class '__main__.Animal'>\n",
      "None\n",
      "__main__\n"
     ]
    }
   ],
   "source": [
    "# Dunder methods\n",
    "# __init__ is a dunder method\n",
    "\n",
    "class Animal:\n",
    "    \n",
    "    def __init__(self, name=\"Animal\", weight=101):\n",
    "        self.name = name\n",
    "        self.weight = weight\n",
    "        \n",
    "    def __str__(self):\n",
    "        return f\"Animal {self.name}\"\n",
    "    \n",
    "    def __len__(self):\n",
    "        return len(self.name)\n",
    "    \n",
    "animal = Animal()\n",
    "print(animal) # Animal Animal\n",
    "len(animal) # 0\n",
    "\n",
    "print(animal.__dict__) # {'name': 'Animal', 'weight': 101}\n",
    "print(animal.__dir__) # list of attributes and methods\n",
    "print(animal.__str__) # Animal Animal\n",
    "print(animal.__len__()) # 6\n",
    "print(animal.__class__) # <class '__main__.Animal'>\n",
    "print(animal.__doc__) # None\n",
    "print(animal.__module__) # __main__\n"
   ]
  },
  {
   "cell_type": "code",
   "execution_count": null,
   "metadata": {},
   "outputs": [
    {
     "name": "stdout",
     "output_type": "stream",
     "text": [
      "\u001b[31mHello World\n",
      "\u001b[30m\u001b[42mHello World\n",
      "\u001b[0m\n"
     ]
    }
   ],
   "source": [
    "# Importing modules\n",
    "\n",
    "from colorama import Fore, Back, Style\n",
    "\n",
    "print(Fore.RED + \"Hello World\")\n",
    "print(Fore.BLACK + Back.GREEN + \"Hello World\")\n",
    "print(Style.RESET_ALL)\n"
   ]
  },
  {
   "cell_type": "code",
   "execution_count": 6,
   "metadata": {},
   "outputs": [
    {
     "name": "stdout",
     "output_type": "stream",
     "text": [
      "Requirement already satisfied: colorama in /home/vscode/.local/lib/python3.12/site-packages (0.4.6)\n",
      "Found existing installation: colorama 0.4.6\n",
      "Uninstalling colorama-0.4.6:\n",
      "  Would remove:\n",
      "    /home/vscode/.local/lib/python3.12/site-packages/colorama-0.4.6.dist-info/*\n",
      "    /home/vscode/.local/lib/python3.12/site-packages/colorama/*\n",
      "Proceed (Y/n)? "
     ]
    }
   ],
   "source": []
  }
 ],
 "metadata": {
  "kernelspec": {
   "display_name": "Python 3",
   "language": "python",
   "name": "python3"
  },
  "language_info": {
   "codemirror_mode": {
    "name": "ipython",
    "version": 3
   },
   "file_extension": ".py",
   "mimetype": "text/x-python",
   "name": "python",
   "nbconvert_exporter": "python",
   "pygments_lexer": "ipython3",
   "version": "3.12.1"
  }
 },
 "nbformat": 4,
 "nbformat_minor": 2
}
