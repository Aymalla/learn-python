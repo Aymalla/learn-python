{
 "cells": [
  {
   "cell_type": "markdown",
   "metadata": {},
   "source": [
    "# Comments"
   ]
  },
  {
   "cell_type": "code",
   "execution_count": 1,
   "metadata": {},
   "outputs": [],
   "source": [
    "# define new variable\n",
    "# assign a value to the variable\n",
    "# print the value of the variable\n",
    "# change the value of the variable\n",
    "variable = 5"
   ]
  },
  {
   "cell_type": "markdown",
   "metadata": {},
   "source": [
    "# Map the input to a list of integers"
   ]
  },
  {
   "cell_type": "code",
   "execution_count": 2,
   "metadata": {},
   "outputs": [
    {
     "name": "stdout",
     "output_type": "stream",
     "text": [
      "[2, 4, 6, 8, 10]\n",
      "2\n",
      "4\n",
      "6\n",
      "8\n",
      "10\n",
      "<class 'map'>\n",
      "[2, 4, 6, 8, 10]\n"
     ]
    }
   ],
   "source": [
    "\n",
    "\n",
    "nums = [1, 2, 3, 4, 5]\n",
    "\n",
    "# using list comprehension\n",
    "new_nums = [nums * 2 for nums in nums]\n",
    "print(new_nums)\n",
    "\n",
    "# But what if we want to do something more complicated?\n",
    "# using map function\n",
    "def multiply_by_2(x):\n",
    "    if x == 0:\n",
    "        return x\n",
    "    return x * 2\n",
    "\n",
    "for new_num in map(multiply_by_2, nums):\n",
    "    print(new_num)\n",
    "    \n",
    "map_fun = map(multiply_by_2, nums)\n",
    "print(type(map_fun))\n",
    "map_list = list(map_fun)\n",
    "print(map_list)"
   ]
  },
  {
   "cell_type": "markdown",
   "metadata": {},
   "source": [
    "# Filters"
   ]
  },
  {
   "cell_type": "code",
   "execution_count": 3,
   "metadata": {},
   "outputs": [
    {
     "name": "stdout",
     "output_type": "stream",
     "text": [
      "2\n",
      "4\n",
      "6\n",
      "8\n",
      "10\n",
      "[2, 4, 6, 8, 10]\n"
     ]
    }
   ],
   "source": [
    "# How to filter a list of numbers to only include even numbers\n",
    "nums = [1, 2, 3, 4, 5, 6, 7, 8, 9, 10]\n",
    "\n",
    "# filter is a function that returns True or False\n",
    "def filter_even(num):\n",
    "    return num % 2 == 0\n",
    "\n",
    "# filter function in a loop\n",
    "for even_num in filter(filter_even, nums):\n",
    "    print(even_num)\n",
    "\n",
    "# filter function to create a new list\n",
    "even_nums = list(filter(filter_even, nums))\n",
    "print(even_nums) # [2, 4, 6, 8, 10]"
   ]
  },
  {
   "cell_type": "markdown",
   "metadata": {},
   "source": [
    "# Python variables scope"
   ]
  },
  {
   "cell_type": "code",
   "execution_count": 4,
   "metadata": {},
   "outputs": [
    {
     "name": "stdout",
     "output_type": "stream",
     "text": [
      "Java\n",
      "Python\n",
      "Hello Tom\n",
      "Hello John\n"
     ]
    }
   ],
   "source": [
    "language = \"Python\"\n",
    "def change_language():\n",
    "   # global language # this will change the global variable\n",
    "   language = \"Java\"\n",
    "   return language\n",
    "\n",
    "print(change_language())\n",
    "print(language)\n",
    "\n",
    "# complex scope\n",
    "\n",
    "def outer_function():\n",
    "    name = \"John\"\n",
    "    def inner_function():\n",
    "        name = \"Tom\"\n",
    "        print(\"Hello\", name) # Hello Tom, user the inner function variable\n",
    "        \n",
    "    def inner_function2():\n",
    "        print(\"Hello\", name) # Hello John, use the outer function variable\n",
    "        \n",
    "    inner_function()\n",
    "    inner_function2()\n",
    "        \n",
    "outer_function()\n",
    "# inner_function() # NameError: name 'inner_function' is not defined\n",
    "        \n",
    "    "
   ]
  },
  {
   "cell_type": "markdown",
   "metadata": {},
   "source": [
    "# Exception handling"
   ]
  },
  {
   "cell_type": "code",
   "execution_count": 5,
   "metadata": {},
   "outputs": [
    {
     "name": "stdout",
     "output_type": "stream",
     "text": [
      "You can't divide by zero!\n",
      "This will always execute\n"
     ]
    }
   ],
   "source": [
    "# handling exceptions\n",
    "try:\n",
    "    print(5 / 0)\n",
    "except ZeroDivisionError:\n",
    "    print(\"You can't divide by zero!\")\n",
    "except Exception as e:\n",
    "    print(e, type(e))\n",
    "    print(\"An error occurred\")\n",
    "else:\n",
    "    print(\"This will only execute if no exception is raised\")\n",
    "finally:\n",
    "    print(\"This will always execute\")"
   ]
  }
 ],
 "metadata": {
  "kernelspec": {
   "display_name": "Python 3",
   "language": "python",
   "name": "python3"
  },
  "language_info": {
   "codemirror_mode": {
    "name": "ipython",
    "version": 3
   },
   "file_extension": ".py",
   "mimetype": "text/x-python",
   "name": "python",
   "nbconvert_exporter": "python",
   "pygments_lexer": "ipython3",
   "version": "3.12.1"
  }
 },
 "nbformat": 4,
 "nbformat_minor": 2
}
