{
 "cells": [
  {
   "cell_type": "markdown",
   "metadata": {},
   "source": [
    "# Arithmetic Operators"
   ]
  },
  {
   "cell_type": "code",
   "execution_count": 1,
   "metadata": {},
   "outputs": [
    {
     "name": "stdout",
     "output_type": "stream",
     "text": [
      "Addition: 100 + 49 =  149\n",
      "Subtraction: 100 - 49 =  51\n",
      "Division: 10 / 3 =  3.3333333333333335\n",
      "multiplication: 100 * 49 =  4900\n",
      "exponentiation: 10 ** 3 =  1000\n",
      "remainder or modulus: 100 % 49 =  2\n"
     ]
    }
   ],
   "source": [
    "print(\"Addition: 100 + 49 = \", 100 + 49)\n",
    "\n",
    "print(\"Subtraction: 100 - 49 = \", 100 - 49)\n",
    "\n",
    "print(\"Division: 10 / 3 = \", 10 / 3)\n",
    "\n",
    "print(\"multiplication: 100 * 49 = \", 100 * 49)\n",
    "\n",
    "print(\"exponentiation: 10 ** 3 = \", 10 ** 3)\n",
    "\n",
    "print(\"remainder or modulus: 100 % 49 = \", 100 % 49)"
   ]
  },
  {
   "cell_type": "markdown",
   "metadata": {},
   "source": [
    "# Comparisons Operators"
   ]
  },
  {
   "cell_type": "code",
   "execution_count": 2,
   "metadata": {},
   "outputs": [
    {
     "name": "stdout",
     "output_type": "stream",
     "text": [
      "The number is 10\n",
      "Hello John\n",
      "True\n",
      "string is not empty\n",
      "string is empty\n",
      "string is None\n",
      "str1 == str2\n",
      "str1 is str2\n",
      "list is not empty\n",
      "list1 == list2\n",
      "tuple is empty\n",
      "total is None\n",
      "total is None\n",
      "var1 == var2\n",
      "var1 == var2\n"
     ]
    }
   ],
   "source": [
    "# Number comparison\n",
    "number = 10\n",
    "\n",
    "if number == 10: # if number is equal to 10\n",
    "    print(\"The number is 10\")\n",
    "elif number >= 0: # if number is greater than or equal to 0\n",
    "    print(\"The number is positive\")\n",
    "elif number < 0: # if number is less than 0\n",
    "    print(\"The number is negative\")\n",
    "else:\n",
    "    print(\"The number is zero\")\n",
    "    \n",
    "# String comparison\n",
    "name = \"John\"\n",
    "\n",
    "if name == \"John\": # if name is equal to John\n",
    "    print(\"Hello John\")\n",
    "    \n",
    "if name != \"John\": # if name is not equal to John\n",
    "    print(\"Hello stranger\") \n",
    "    \n",
    "    \n",
    "# Boolean comparison\n",
    "if True:\n",
    "    print(\"True\")\n",
    "    \n",
    "if False:\n",
    "    print(\"False\")\n",
    "   \n",
    "# String comparison \n",
    "string = \"Hello\"\n",
    "if string:\n",
    "    print(\"string is not empty\")\n",
    "\n",
    "string = \"\"   \n",
    "if not string:\n",
    "    print(\"string is empty\")\n",
    "    \n",
    "string = None   \n",
    "if not string:\n",
    "    print(\"string is None\")\n",
    "    \n",
    "str1 = \"String\"\n",
    "str2 = \"String\"\n",
    "if str1 == str2:\n",
    "    print(\"str1 == str2\")\n",
    "if str1 is str2:\n",
    "    print(\"str1 is str2\")\n",
    "    \n",
    "    \n",
    "# List comparison\n",
    "list = [1, 2, 3, 4, 5]\n",
    "if list:\n",
    "    print(\"list is not empty\")\n",
    "if not list:\n",
    "    print(\"list is empty\")\n",
    "    \n",
    "list1 = [1, 2, 3]\n",
    "list2 = [1, 2, 3]\n",
    "if list1 == list2:\n",
    "    print(\"list1 == list2\")\n",
    "    \n",
    "if list1 is list2:\n",
    "    print(\"list1 is list2\")\n",
    "\n",
    "# Tuple comparison   \n",
    "tuple = ()\n",
    "if tuple:\n",
    "    print(\"tuple is not empty\")\n",
    "if not tuple:\n",
    "    print(\"tuple is empty\")\n",
    "  \n",
    "# None comparison  \n",
    "total = None\n",
    "if total is None:\n",
    "    print(\"total is None\")\n",
    "    \n",
    "if total == None:\n",
    "    print(\"total is None\")\n",
    "    \n",
    "if total is not None:\n",
    "    print(\"total is not None\")\n",
    "    \n",
    "if total != None:\n",
    "    print(\"total is not None\")\n",
    "\n",
    "# is Operator   \n",
    "var1 = 1\n",
    "var2 = 1\n",
    "\n",
    "if var1 is var2:\n",
    "    print(\"var1 == var2\")\n",
    "    \n",
    "if var1 == var2:\n",
    "    print(\"var1 == var2\")"
   ]
  },
  {
   "cell_type": "markdown",
   "metadata": {},
   "source": [
    "# Multiple conditions"
   ]
  },
  {
   "cell_type": "code",
   "execution_count": 3,
   "metadata": {},
   "outputs": [
    {
     "name": "stdout",
     "output_type": "stream",
     "text": [
      "number is 10 and name is John\n",
      "number is 10 or name is John\n",
      "number is 10 and name is John or number is 20\n",
      "number is 10\n"
     ]
    }
   ],
   "source": [
    "# Multiple conditions\n",
    "number = 10\n",
    "name = \"John\"\n",
    "\n",
    "if number == 10 and name == \"John\":\n",
    "    print(\"number is 10 and name is John\")\n",
    "    \n",
    "if number == 10 or name == \"John\":\n",
    "    print(\"number is 10 or name is John\")    \n",
    "    \n",
    "if (number == 10 and name == \"John\") or number == 20:\n",
    "    print(\"number is 10 and name is John or number is 20\")\n",
    "    \n",
    "# Chaining operator\n",
    "number = 10\n",
    "if number == 10:\n",
    "    print(\"number is 10\")\n",
    "elif number == 5:\n",
    "    print(\"number is 5\")\n",
    "else:\n",
    "    print(\"number is not 10 or 5\")\n"
   ]
  },
  {
   "cell_type": "code",
   "execution_count": 4,
   "metadata": {},
   "outputs": [
    {
     "name": "stdout",
     "output_type": "stream",
     "text": [
      "1 is in list\n",
      "0 Python\n",
      "1 Java\n",
      "2 C++\n",
      "3 C#\n",
      "a 1\n",
      "b 2\n",
      "c 3\n",
      "d 4\n",
      "e 5\n",
      "2\n",
      "11\n",
      "25\n",
      "None\n",
      "Python,Java,C++,C#\n",
      "['C#', 'C++', 'Python', 'Java']\n"
     ]
    }
   ],
   "source": [
    "# Helpful operators\n",
    "\n",
    "# in operator\n",
    "nums_lst = [1, 2, 3, 4, 5]\n",
    "if 1 in nums_lst:\n",
    "    print(\"1 is in list\")\n",
    "    \n",
    "# enumerate\n",
    "languages_lst = [\"Python\", \"Java\", \"C++\", \"C#\"]\n",
    "for index, language in enumerate(languages_lst):\n",
    "    print(index, language)\n",
    "    \n",
    "# zipping = merging two lists\n",
    "nums = [1, 2, 3, 4, 5]\n",
    "letters = [\"a\", \"b\", \"c\", \"d\", \"e\"]\n",
    "for letter, num in zip(letters, nums):\n",
    "    print(letter, num)\n",
    "    \n",
    "# min, max, sum\n",
    "nums_lst = [11, 2, 3, 4, 5]\n",
    "print(min(nums_lst))\n",
    "print(max(nums_lst))\n",
    "print(sum(nums_lst))\n",
    "print(nums_lst.sort())\n",
    "\n",
    "# split\n",
    "\n",
    "# random\n",
    "from random import shuffle\n",
    "languages_lst = [\"Python\", \"Java\", \"C++\", \"C#\"]\n",
    "print(\",\".join(languages_lst))\n",
    "shuffle(languages_lst)\n",
    "print(languages_lst)\n",
    "\n"
   ]
  },
  {
   "cell_type": "markdown",
   "metadata": {},
   "source": [
    "# List comprehensions"
   ]
  },
  {
   "cell_type": "code",
   "execution_count": 5,
   "metadata": {},
   "outputs": [
    {
     "name": "stdout",
     "output_type": "stream",
     "text": [
      "['P', 'y', 't', 'h', 'o', 'n', ' ', 'f', 'o', 'r', ' ', 'b', 'e', 'g', 'i', 'n', 'n', 'e', 'r', 's']\n",
      "['P', 'y', 't', 'h', 'o', 'n', ' ', 'f', 'o', 'r', ' ', 'b', 'e', 'g', 'i', 'n', 'n', 'e', 'r', 's']\n",
      "['P', 'y', 't', 'h', 'o', 'n', 'f', 'o', 'r', 'b', 'e', 'g', 'i', 'n', 'n', 'e', 'r', 's']\n",
      "[1, 4, 9, 16, 25, 36, 49, 64, 81, 100]\n",
      "[32.0, 50.0, 68.0, 86.0, 104.0]\n",
      "[0, 10, 20, 30, 40]\n"
     ]
    }
   ],
   "source": [
    "course = \"Python for beginners\"\n",
    "list1 = []\n",
    "for letter in course:\n",
    "    list1.append(letter)\n",
    "print(list1)\n",
    "\n",
    "list2 = [letter for letter in course]\n",
    "print(list2)\n",
    "\n",
    "list3 = [letter for letter in course if letter != \" \"]\n",
    "print(list3)\n",
    "\n",
    "numbers = [num**2 for num in range(1, 11)]\n",
    "print(numbers)\n",
    "\n",
    "celsius = [0, 10, 20, 30, 40]\n",
    "fahrenheit = [1.8 * temp + 32 for temp in celsius]\n",
    "print(fahrenheit)\n",
    "print(celsius)"
   ]
  },
  {
   "cell_type": "markdown",
   "metadata": {},
   "source": [
    "# Dictionary Comprehensions"
   ]
  },
  {
   "cell_type": "code",
   "execution_count": 6,
   "metadata": {},
   "outputs": [
    {
     "name": "stdout",
     "output_type": "stream",
     "text": [
      "{'name': 'John', 'age': 30, 'city': 'New York'}\n",
      "{'name': 'John', 'age': 30, 'city': 'New York'}\n",
      "{'name': 'John', 'age': 30}\n"
     ]
    }
   ],
   "source": [
    "keys = [\"name\", \"age\", \"city\"]\n",
    "values = [\"John\", 30, \"New York\"]\n",
    "\n",
    "person = {}\n",
    "for key,value in zip(keys,values):\n",
    "    person[key] = value\n",
    "    \n",
    "print(person)\n",
    "\n",
    "person2 = {key:value for key, value in zip(keys, values)}\n",
    "print(person2)\n",
    "\n",
    "person3 = {key:value for key, value in zip(keys, values) if key != \"city\"}\n",
    "print(person3)"
   ]
  }
 ],
 "metadata": {
  "kernelspec": {
   "display_name": "Python 3 (ipykernel)",
   "language": "python",
   "name": "python3"
  },
  "language_info": {
   "codemirror_mode": {
    "name": "ipython",
    "version": 3
   },
   "file_extension": ".py",
   "mimetype": "text/x-python",
   "name": "python",
   "nbconvert_exporter": "python",
   "pygments_lexer": "ipython3",
   "version": "3.12.1"
  }
 },
 "nbformat": 4,
 "nbformat_minor": 2
}
